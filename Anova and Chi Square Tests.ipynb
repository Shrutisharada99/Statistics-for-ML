{
 "cells": [
  {
   "cell_type": "markdown",
   "id": "eb7fea98-3aa8-4f7c-b226-b2bf3f02ab6d",
   "metadata": {},
   "source": [
    "## Library Imports"
   ]
  },
  {
   "cell_type": "code",
   "execution_count": 46,
   "id": "99e2f469-1420-41cc-a5a1-0458feb3a3fa",
   "metadata": {},
   "outputs": [],
   "source": [
    "import pandas as pd\n",
    "import numpy as np\n",
    "import statsmodels.api as sm\n",
    "from statsmodels.formula.api import ols\n",
    "from scipy.stats import chi2_contingency"
   ]
  },
  {
   "cell_type": "markdown",
   "id": "73fb8897-1376-4296-895e-15a2272a7bb0",
   "metadata": {},
   "source": [
    "## III. Professional Suites"
   ]
  },
  {
   "cell_type": "code",
   "execution_count": 30,
   "id": "e6c5bdae-cf88-442c-8146-8565292ee74a",
   "metadata": {},
   "outputs": [],
   "source": [
    "suites = pd.read_excel(\"Shruti Sharada S-FinalExam.xlsx\", sheet_name = \"Suites\")"
   ]
  },
  {
   "cell_type": "code",
   "execution_count": 31,
   "id": "27fdfd6f-a22b-4169-a39c-a950a51a83d1",
   "metadata": {},
   "outputs": [
    {
     "data": {
      "text/html": [
       "<div>\n",
       "<style scoped>\n",
       "    .dataframe tbody tr th:only-of-type {\n",
       "        vertical-align: middle;\n",
       "    }\n",
       "\n",
       "    .dataframe tbody tr th {\n",
       "        vertical-align: top;\n",
       "    }\n",
       "\n",
       "    .dataframe thead th {\n",
       "        text-align: right;\n",
       "    }\n",
       "</style>\n",
       "<table border=\"1\" class=\"dataframe\">\n",
       "  <thead>\n",
       "    <tr style=\"text-align: right;\">\n",
       "      <th></th>\n",
       "      <th>City</th>\n",
       "      <th>Room Type</th>\n",
       "      <th>Revenue (Lakhs)</th>\n",
       "    </tr>\n",
       "  </thead>\n",
       "  <tbody>\n",
       "    <tr>\n",
       "      <th>0</th>\n",
       "      <td>Mumbai</td>\n",
       "      <td>Standard</td>\n",
       "      <td>50</td>\n",
       "    </tr>\n",
       "    <tr>\n",
       "      <th>1</th>\n",
       "      <td>Mumbai</td>\n",
       "      <td>Deluxe</td>\n",
       "      <td>55</td>\n",
       "    </tr>\n",
       "    <tr>\n",
       "      <th>2</th>\n",
       "      <td>Mumbai</td>\n",
       "      <td>Super Deluxe</td>\n",
       "      <td>60</td>\n",
       "    </tr>\n",
       "    <tr>\n",
       "      <th>3</th>\n",
       "      <td>Delhi</td>\n",
       "      <td>Standard</td>\n",
       "      <td>30</td>\n",
       "    </tr>\n",
       "    <tr>\n",
       "      <th>4</th>\n",
       "      <td>Delhi</td>\n",
       "      <td>Deluxe</td>\n",
       "      <td>45</td>\n",
       "    </tr>\n",
       "  </tbody>\n",
       "</table>\n",
       "</div>"
      ],
      "text/plain": [
       "     City     Room Type  Revenue (Lakhs)\n",
       "0  Mumbai      Standard               50\n",
       "1  Mumbai        Deluxe               55\n",
       "2  Mumbai  Super Deluxe               60\n",
       "3   Delhi      Standard               30\n",
       "4   Delhi        Deluxe               45"
      ]
     },
     "execution_count": 31,
     "metadata": {},
     "output_type": "execute_result"
    }
   ],
   "source": [
    "suites.head()"
   ]
  },
  {
   "cell_type": "code",
   "execution_count": 32,
   "id": "88b1db79-c8dd-4d0f-a459-db535bed8c27",
   "metadata": {},
   "outputs": [],
   "source": [
    "suites[\"Room_type\"] = suites[\"Room Type\"]\n",
    "suites[\"Revenue\"] = suites[\"Revenue (Lakhs)\"]"
   ]
  },
  {
   "cell_type": "code",
   "execution_count": 33,
   "id": "617e0ffb-70da-4bda-825f-12f18a946678",
   "metadata": {},
   "outputs": [
    {
     "data": {
      "text/html": [
       "<div>\n",
       "<style scoped>\n",
       "    .dataframe tbody tr th:only-of-type {\n",
       "        vertical-align: middle;\n",
       "    }\n",
       "\n",
       "    .dataframe tbody tr th {\n",
       "        vertical-align: top;\n",
       "    }\n",
       "\n",
       "    .dataframe thead th {\n",
       "        text-align: right;\n",
       "    }\n",
       "</style>\n",
       "<table border=\"1\" class=\"dataframe\">\n",
       "  <thead>\n",
       "    <tr style=\"text-align: right;\">\n",
       "      <th></th>\n",
       "      <th>City</th>\n",
       "      <th>Room_type</th>\n",
       "      <th>Revenue</th>\n",
       "    </tr>\n",
       "  </thead>\n",
       "  <tbody>\n",
       "    <tr>\n",
       "      <th>0</th>\n",
       "      <td>Mumbai</td>\n",
       "      <td>Standard</td>\n",
       "      <td>50</td>\n",
       "    </tr>\n",
       "    <tr>\n",
       "      <th>1</th>\n",
       "      <td>Mumbai</td>\n",
       "      <td>Deluxe</td>\n",
       "      <td>55</td>\n",
       "    </tr>\n",
       "    <tr>\n",
       "      <th>2</th>\n",
       "      <td>Mumbai</td>\n",
       "      <td>Super Deluxe</td>\n",
       "      <td>60</td>\n",
       "    </tr>\n",
       "    <tr>\n",
       "      <th>3</th>\n",
       "      <td>Delhi</td>\n",
       "      <td>Standard</td>\n",
       "      <td>30</td>\n",
       "    </tr>\n",
       "    <tr>\n",
       "      <th>4</th>\n",
       "      <td>Delhi</td>\n",
       "      <td>Deluxe</td>\n",
       "      <td>45</td>\n",
       "    </tr>\n",
       "    <tr>\n",
       "      <th>5</th>\n",
       "      <td>Delhi</td>\n",
       "      <td>Super Deluxe</td>\n",
       "      <td>45</td>\n",
       "    </tr>\n",
       "    <tr>\n",
       "      <th>6</th>\n",
       "      <td>Bangalore</td>\n",
       "      <td>Standard</td>\n",
       "      <td>40</td>\n",
       "    </tr>\n",
       "    <tr>\n",
       "      <th>7</th>\n",
       "      <td>Bangalore</td>\n",
       "      <td>Deluxe</td>\n",
       "      <td>45</td>\n",
       "    </tr>\n",
       "    <tr>\n",
       "      <th>8</th>\n",
       "      <td>Bangalore</td>\n",
       "      <td>Super Deluxe</td>\n",
       "      <td>50</td>\n",
       "    </tr>\n",
       "    <tr>\n",
       "      <th>9</th>\n",
       "      <td>Chennai</td>\n",
       "      <td>Standard</td>\n",
       "      <td>30</td>\n",
       "    </tr>\n",
       "    <tr>\n",
       "      <th>10</th>\n",
       "      <td>Chennai</td>\n",
       "      <td>Deluxe</td>\n",
       "      <td>30</td>\n",
       "    </tr>\n",
       "    <tr>\n",
       "      <th>11</th>\n",
       "      <td>Chennai</td>\n",
       "      <td>Super Deluxe</td>\n",
       "      <td>40</td>\n",
       "    </tr>\n",
       "  </tbody>\n",
       "</table>\n",
       "</div>"
      ],
      "text/plain": [
       "         City     Room_type  Revenue\n",
       "0      Mumbai      Standard       50\n",
       "1      Mumbai        Deluxe       55\n",
       "2      Mumbai  Super Deluxe       60\n",
       "3       Delhi      Standard       30\n",
       "4       Delhi        Deluxe       45\n",
       "5       Delhi  Super Deluxe       45\n",
       "6   Bangalore      Standard       40\n",
       "7   Bangalore        Deluxe       45\n",
       "8   Bangalore  Super Deluxe       50\n",
       "9     Chennai      Standard       30\n",
       "10    Chennai        Deluxe       30\n",
       "11    Chennai  Super Deluxe       40"
      ]
     },
     "execution_count": 33,
     "metadata": {},
     "output_type": "execute_result"
    }
   ],
   "source": [
    "suites = suites.drop(['Room Type', \"Revenue (Lakhs)\"], axis = 1)\n",
    "suites"
   ]
  },
  {
   "cell_type": "code",
   "execution_count": 20,
   "id": "14c97cd0-1169-46dc-b9c1-4cb805eb4a88",
   "metadata": {},
   "outputs": [
    {
     "data": {
      "text/plain": [
       "City       Room_type   \n",
       "Bangalore  Deluxe          45.0\n",
       "           Standard        40.0\n",
       "           Super Deluxe    50.0\n",
       "Chennai    Deluxe          30.0\n",
       "           Standard        30.0\n",
       "           Super Deluxe    40.0\n",
       "Delhi      Deluxe          45.0\n",
       "           Standard        30.0\n",
       "           Super Deluxe    45.0\n",
       "Mumbai     Deluxe          55.0\n",
       "           Standard        50.0\n",
       "           Super Deluxe    60.0\n",
       "Name: Revenue (Lakhs), dtype: float64"
      ]
     },
     "execution_count": 20,
     "metadata": {},
     "output_type": "execute_result"
    }
   ],
   "source": [
    "suites.groupby(['City','Room_type'])[\"Revenue (Lakhs)\"].mean()"
   ]
  },
  {
   "cell_type": "markdown",
   "id": "31c5c667-edc5-4ec3-8363-039d92f62c89",
   "metadata": {},
   "source": [
    "## Two-way ANOVA:"
   ]
  },
  {
   "cell_type": "raw",
   "id": "4bf24c73-c08e-404b-92a2-7303f94b5918",
   "metadata": {},
   "source": [
    "NULL and Alternate Hypothesis:\n",
    "-------------------------------\n",
    "\n",
    "H0: There is no significant difference in average revenue between the different cities and different rooms.\n",
    "H1: This is a significant difference in the average revenue between the different cities and the different rooms."
   ]
  },
  {
   "cell_type": "code",
   "execution_count": 22,
   "id": "76f9b637-bd11-4252-a71a-b11e070d2267",
   "metadata": {},
   "outputs": [],
   "source": [
    "suites_model = ols('Revenue ~ City+ Room_type', data = suites).fit()"
   ]
  },
  {
   "cell_type": "code",
   "execution_count": 35,
   "id": "abb737fc-39fd-43ad-a018-2d7f6f4ed12c",
   "metadata": {},
   "outputs": [
    {
     "data": {
      "text/html": [
       "<div>\n",
       "<style scoped>\n",
       "    .dataframe tbody tr th:only-of-type {\n",
       "        vertical-align: middle;\n",
       "    }\n",
       "\n",
       "    .dataframe tbody tr th {\n",
       "        vertical-align: top;\n",
       "    }\n",
       "\n",
       "    .dataframe thead th {\n",
       "        text-align: right;\n",
       "    }\n",
       "</style>\n",
       "<table border=\"1\" class=\"dataframe\">\n",
       "  <thead>\n",
       "    <tr style=\"text-align: right;\">\n",
       "      <th></th>\n",
       "      <th>df</th>\n",
       "      <th>sum_sq</th>\n",
       "      <th>mean_sq</th>\n",
       "      <th>F</th>\n",
       "      <th>PR(&gt;F)</th>\n",
       "    </tr>\n",
       "  </thead>\n",
       "  <tbody>\n",
       "    <tr>\n",
       "      <th>City</th>\n",
       "      <td>3.0</td>\n",
       "      <td>750.000000</td>\n",
       "      <td>250.000000</td>\n",
       "      <td>24.0</td>\n",
       "      <td>0.000966</td>\n",
       "    </tr>\n",
       "    <tr>\n",
       "      <th>Room_type</th>\n",
       "      <td>2.0</td>\n",
       "      <td>254.166667</td>\n",
       "      <td>127.083333</td>\n",
       "      <td>12.2</td>\n",
       "      <td>0.007688</td>\n",
       "    </tr>\n",
       "    <tr>\n",
       "      <th>Residual</th>\n",
       "      <td>6.0</td>\n",
       "      <td>62.500000</td>\n",
       "      <td>10.416667</td>\n",
       "      <td>NaN</td>\n",
       "      <td>NaN</td>\n",
       "    </tr>\n",
       "  </tbody>\n",
       "</table>\n",
       "</div>"
      ],
      "text/plain": [
       "            df      sum_sq     mean_sq     F    PR(>F)\n",
       "City       3.0  750.000000  250.000000  24.0  0.000966\n",
       "Room_type  2.0  254.166667  127.083333  12.2  0.007688\n",
       "Residual   6.0   62.500000   10.416667   NaN       NaN"
      ]
     },
     "execution_count": 35,
     "metadata": {},
     "output_type": "execute_result"
    }
   ],
   "source": [
    "result = sm.stats.anova_lm(suites_model, axis = 2)\n",
    "result"
   ]
  },
  {
   "cell_type": "markdown",
   "id": "3a6063bb-3e5a-4432-bc55-ad529079847b",
   "metadata": {},
   "source": [
    "**Inference:** When we take `significance as 0.05`, we can observe that the `p-value of City is less than the significance, hence, rejecting H0`, we can conclude that there is a significant difference in the average revenue between the different cities.\n",
    "However, when we take significance as 0.05, the `p-value of 'Room_type' is greater than the significance, hence, accepting H0`, we can conclude that there is no a significant difference in the average revenue between the different Room Types."
   ]
  },
  {
   "cell_type": "markdown",
   "id": "0a285fe9-766c-470a-b4b1-baf70145cfb5",
   "metadata": {},
   "source": [
    "Infering from data, Cities, `Chennai and Mumbai` seem to be making a significant impact on the difference in revenue among the cities.\n",
    "Tests like, Tukey's Test and Pairwise T-test, can be performed to conclude this."
   ]
  },
  {
   "cell_type": "markdown",
   "id": "83f2f076-6796-475b-8821-3a1e11eafd84",
   "metadata": {},
   "source": [
    "## IV. Generational Differences"
   ]
  },
  {
   "cell_type": "code",
   "execution_count": 37,
   "id": "5c2bb44c-2b8e-421f-9ead-48f29c050e0c",
   "metadata": {},
   "outputs": [
    {
     "data": {
      "text/html": [
       "<div>\n",
       "<style scoped>\n",
       "    .dataframe tbody tr th:only-of-type {\n",
       "        vertical-align: middle;\n",
       "    }\n",
       "\n",
       "    .dataframe tbody tr th {\n",
       "        vertical-align: top;\n",
       "    }\n",
       "\n",
       "    .dataframe thead th {\n",
       "        text-align: right;\n",
       "    }\n",
       "</style>\n",
       "<table border=\"1\" class=\"dataframe\">\n",
       "  <thead>\n",
       "    <tr style=\"text-align: right;\">\n",
       "      <th></th>\n",
       "      <th>Generation</th>\n",
       "      <th>Leave Job For More Money?</th>\n",
       "    </tr>\n",
       "  </thead>\n",
       "  <tbody>\n",
       "    <tr>\n",
       "      <th>0</th>\n",
       "      <td>Gen Z</td>\n",
       "      <td>No</td>\n",
       "    </tr>\n",
       "    <tr>\n",
       "      <th>1</th>\n",
       "      <td>Gen X</td>\n",
       "      <td>No</td>\n",
       "    </tr>\n",
       "    <tr>\n",
       "      <th>2</th>\n",
       "      <td>Gen Z</td>\n",
       "      <td>Yes</td>\n",
       "    </tr>\n",
       "    <tr>\n",
       "      <th>3</th>\n",
       "      <td>Gen Z</td>\n",
       "      <td>No</td>\n",
       "    </tr>\n",
       "    <tr>\n",
       "      <th>4</th>\n",
       "      <td>Gen Z</td>\n",
       "      <td>No</td>\n",
       "    </tr>\n",
       "  </tbody>\n",
       "</table>\n",
       "</div>"
      ],
      "text/plain": [
       "  Generation Leave Job For More Money?\n",
       "0      Gen Z                        No\n",
       "1      Gen X                        No\n",
       "2      Gen Z                       Yes\n",
       "3      Gen Z                        No\n",
       "4      Gen Z                        No"
      ]
     },
     "execution_count": 37,
     "metadata": {},
     "output_type": "execute_result"
    }
   ],
   "source": [
    "gen = pd.read_excel(\"Shruti Sharada S-FinalExam.xlsx\", sheet_name = \"Generations\")\n",
    "gen.head()"
   ]
  },
  {
   "cell_type": "code",
   "execution_count": 42,
   "id": "eed40073-9233-4ad3-a799-04f66beeaf64",
   "metadata": {},
   "outputs": [
    {
     "data": {
      "text/html": [
       "<div>\n",
       "<style scoped>\n",
       "    .dataframe tbody tr th:only-of-type {\n",
       "        vertical-align: middle;\n",
       "    }\n",
       "\n",
       "    .dataframe tbody tr th {\n",
       "        vertical-align: top;\n",
       "    }\n",
       "\n",
       "    .dataframe thead th {\n",
       "        text-align: right;\n",
       "    }\n",
       "</style>\n",
       "<table border=\"1\" class=\"dataframe\">\n",
       "  <thead>\n",
       "    <tr style=\"text-align: right;\">\n",
       "      <th>Generation</th>\n",
       "      <th>Gen X</th>\n",
       "      <th>Gen Z</th>\n",
       "      <th>Millenial</th>\n",
       "    </tr>\n",
       "    <tr>\n",
       "      <th>Leave Job For More Money?</th>\n",
       "      <th></th>\n",
       "      <th></th>\n",
       "      <th></th>\n",
       "    </tr>\n",
       "  </thead>\n",
       "  <tbody>\n",
       "    <tr>\n",
       "      <th>No</th>\n",
       "      <td>208</td>\n",
       "      <td>171</td>\n",
       "      <td>182</td>\n",
       "    </tr>\n",
       "    <tr>\n",
       "      <th>Yes</th>\n",
       "      <td>129</td>\n",
       "      <td>164</td>\n",
       "      <td>152</td>\n",
       "    </tr>\n",
       "  </tbody>\n",
       "</table>\n",
       "</div>"
      ],
      "text/plain": [
       "Generation                 Gen X  Gen Z  Millenial\n",
       "Leave Job For More Money?                         \n",
       "No                           208    171        182\n",
       "Yes                          129    164        152"
      ]
     },
     "execution_count": 42,
     "metadata": {},
     "output_type": "execute_result"
    }
   ],
   "source": [
    "gens = gen.pivot_table(index='Leave Job For More Money?', columns='Generation', aggfunc='size', fill_value=0)\n",
    "gens"
   ]
  },
  {
   "cell_type": "markdown",
   "id": "9a57eb00-9004-4e2f-8797-6ce55d3be830",
   "metadata": {},
   "source": [
    "## Chi-Square Analysis:"
   ]
  },
  {
   "cell_type": "raw",
   "id": "e47d639e-1a17-4dd9-b641-4ec22920d5f3",
   "metadata": {},
   "source": [
    "NULL and Alternate Hypothesis:\n",
    "------------------------------\n",
    "\n",
    "H0: Interest in leaving a current job for more money is independent of employee generation.\n",
    "H1: Interest in leaving a current job for more money is dependent on employee generation."
   ]
  },
  {
   "cell_type": "code",
   "execution_count": 48,
   "id": "a0dee442-6b4f-49f2-a446-796bb4f03f87",
   "metadata": {},
   "outputs": [
    {
     "name": "stdout",
     "output_type": "stream",
     "text": [
      "Chi2 Statistic value: 8.092012900555744\n",
      "P-value: 0.01749209087386266\n",
      "Degrees of Freedom: 2\n"
     ]
    }
   ],
   "source": [
    "chi2, p, dof, expected = chi2_contingency(gens)\n",
    "print(f\"Chi2 Statistic value: {chi2}\")\n",
    "print(f\"P-value: {p}\")\n",
    "print(f\"Degrees of Freedom: {dof}\")"
   ]
  },
  {
   "cell_type": "markdown",
   "id": "a99a3e05-4247-49f0-a0e5-75bc134e279c",
   "metadata": {},
   "source": [
    "**Inference:** If we take `significance level as 5%`, we can notice that the p-value is greater than the significance, hence, accepting H0, we can conclude that the `Interest in leaving a current job for more money is independent of employee generation.`"
   ]
  }
 ],
 "metadata": {
  "kernelspec": {
   "display_name": "Python 3 (ipykernel)",
   "language": "python",
   "name": "python3"
  },
  "language_info": {
   "codemirror_mode": {
    "name": "ipython",
    "version": 3
   },
   "file_extension": ".py",
   "mimetype": "text/x-python",
   "name": "python",
   "nbconvert_exporter": "python",
   "pygments_lexer": "ipython3",
   "version": "3.12.4"
  }
 },
 "nbformat": 4,
 "nbformat_minor": 5
}
