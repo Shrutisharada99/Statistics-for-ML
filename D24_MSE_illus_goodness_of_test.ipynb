{
 "cells": [
  {
   "cell_type": "markdown",
   "id": "0c89ce08-2dd0-4b2c-adbd-788bd55ceb47",
   "metadata": {
    "id": "0c89ce08-2dd0-4b2c-adbd-788bd55ceb47"
   },
   "source": [
    "#### Illustration of Goodness of Fit Test"
   ]
  },
  {
   "cell_type": "code",
   "execution_count": 1,
   "id": "18c31aaf-3eba-4299-9ef9-bf58d5839b8e",
   "metadata": {
    "id": "18c31aaf-3eba-4299-9ef9-bf58d5839b8e"
   },
   "outputs": [],
   "source": [
    "import pandas as pd\n",
    "import numpy as np\n",
    "import matplotlib.pyplot as plt\n",
    "import seaborn as sns\n",
    "import scipy.stats as stats"
   ]
  },
  {
   "cell_type": "code",
   "execution_count": 2,
   "id": "d55c0b0a-21ba-441b-b2c7-57c41becf867",
   "metadata": {
    "id": "d55c0b0a-21ba-441b-b2c7-57c41becf867"
   },
   "outputs": [
    {
     "name": "stderr",
     "output_type": "stream",
     "text": [
      "C:\\Users\\Vani\\AppData\\Local\\Temp\\ipykernel_16224\\1226699713.py:5: FutureWarning: DataFrame.fillna with 'method' is deprecated and will raise in a future version. Use obj.ffill() or obj.bfill() instead.\n",
      "  df = df.fillna(method='ffill')\n"
     ]
    }
   ],
   "source": [
    "#df = pd.read_csv(r'../../data/cs-training.csv')\n",
    "df = pd.read_csv('mel_house_price.csv')\n",
    "df['price'] = np.round(df['Price']/10000, 2)\n",
    "df = df.sample(frac=1, random_state=42).reset_index(drop=True)\n",
    "df = df.fillna(method='ffill')"
   ]
  },
  {
   "cell_type": "code",
   "execution_count": 3,
   "id": "ad19d99d-2aa0-4010-8ad8-3d8bf8928cf9",
   "metadata": {
    "id": "ad19d99d-2aa0-4010-8ad8-3d8bf8928cf9",
    "outputId": "60902149-6c06-4dfa-ebe9-6c3fa83e733f"
   },
   "outputs": [
    {
     "data": {
      "text/html": [
       "<div>\n",
       "<style scoped>\n",
       "    .dataframe tbody tr th:only-of-type {\n",
       "        vertical-align: middle;\n",
       "    }\n",
       "\n",
       "    .dataframe tbody tr th {\n",
       "        vertical-align: top;\n",
       "    }\n",
       "\n",
       "    .dataframe thead th {\n",
       "        text-align: right;\n",
       "    }\n",
       "</style>\n",
       "<table border=\"1\" class=\"dataframe\">\n",
       "  <thead>\n",
       "    <tr style=\"text-align: right;\">\n",
       "      <th></th>\n",
       "      <th>Suburb</th>\n",
       "      <th>Rooms</th>\n",
       "      <th>Type</th>\n",
       "      <th>Method</th>\n",
       "      <th>SellerG</th>\n",
       "      <th>Distance</th>\n",
       "      <th>Postcode</th>\n",
       "      <th>Bedroom</th>\n",
       "      <th>Bathroom</th>\n",
       "      <th>Car</th>\n",
       "      <th>...</th>\n",
       "      <th>CouncilArea</th>\n",
       "      <th>Latitude</th>\n",
       "      <th>Longtitude</th>\n",
       "      <th>Regionname</th>\n",
       "      <th>Propertycount</th>\n",
       "      <th>ParkingArea</th>\n",
       "      <th>Price</th>\n",
       "      <th>year_list</th>\n",
       "      <th>month_list</th>\n",
       "      <th>price</th>\n",
       "    </tr>\n",
       "  </thead>\n",
       "  <tbody>\n",
       "    <tr>\n",
       "      <th>0</th>\n",
       "      <td>Burwood</td>\n",
       "      <td>2.0</td>\n",
       "      <td>h</td>\n",
       "      <td>S</td>\n",
       "      <td>Lindellas</td>\n",
       "      <td>11.70</td>\n",
       "      <td>3125.0</td>\n",
       "      <td>1.0</td>\n",
       "      <td>1.0</td>\n",
       "      <td>1.0</td>\n",
       "      <td>...</td>\n",
       "      <td>Monash City Council</td>\n",
       "      <td>-37.851800</td>\n",
       "      <td>145.127800</td>\n",
       "      <td>Southern Metropolitan</td>\n",
       "      <td>5678.0</td>\n",
       "      <td>Parking Pad</td>\n",
       "      <td>1815000</td>\n",
       "      <td>2017</td>\n",
       "      <td>5</td>\n",
       "      <td>181.50</td>\n",
       "    </tr>\n",
       "    <tr>\n",
       "      <th>1</th>\n",
       "      <td>Edithvale</td>\n",
       "      <td>4.0</td>\n",
       "      <td>t</td>\n",
       "      <td>PI</td>\n",
       "      <td>Buxton</td>\n",
       "      <td>9.22</td>\n",
       "      <td>3196.0</td>\n",
       "      <td>3.0</td>\n",
       "      <td>1.4</td>\n",
       "      <td>2.0</td>\n",
       "      <td>...</td>\n",
       "      <td>Kingston City Council</td>\n",
       "      <td>-37.804120</td>\n",
       "      <td>144.979946</td>\n",
       "      <td>South-Eastern Metropolitan</td>\n",
       "      <td>2546.0</td>\n",
       "      <td>Carport</td>\n",
       "      <td>955000</td>\n",
       "      <td>2018</td>\n",
       "      <td>3</td>\n",
       "      <td>95.50</td>\n",
       "    </tr>\n",
       "    <tr>\n",
       "      <th>2</th>\n",
       "      <td>Tullamarine</td>\n",
       "      <td>2.0</td>\n",
       "      <td>u</td>\n",
       "      <td>SP</td>\n",
       "      <td>Barry</td>\n",
       "      <td>12.90</td>\n",
       "      <td>3043.0</td>\n",
       "      <td>2.6</td>\n",
       "      <td>1.4</td>\n",
       "      <td>1.6</td>\n",
       "      <td>...</td>\n",
       "      <td>Brimbank City Council</td>\n",
       "      <td>-37.648736</td>\n",
       "      <td>144.949798</td>\n",
       "      <td>Western Metropolitan</td>\n",
       "      <td>3296.0</td>\n",
       "      <td>Outdoor Stall</td>\n",
       "      <td>482500</td>\n",
       "      <td>2018</td>\n",
       "      <td>2</td>\n",
       "      <td>48.25</td>\n",
       "    </tr>\n",
       "    <tr>\n",
       "      <th>3</th>\n",
       "      <td>St Kilda</td>\n",
       "      <td>2.0</td>\n",
       "      <td>u</td>\n",
       "      <td>VB</td>\n",
       "      <td>hockingstuart</td>\n",
       "      <td>6.10</td>\n",
       "      <td>3182.0</td>\n",
       "      <td>2.0</td>\n",
       "      <td>1.0</td>\n",
       "      <td>1.0</td>\n",
       "      <td>...</td>\n",
       "      <td>Port Phillip City Council</td>\n",
       "      <td>-37.861200</td>\n",
       "      <td>144.985000</td>\n",
       "      <td>Southern Metropolitan</td>\n",
       "      <td>13240.0</td>\n",
       "      <td>Underground</td>\n",
       "      <td>450000</td>\n",
       "      <td>2016</td>\n",
       "      <td>8</td>\n",
       "      <td>45.00</td>\n",
       "    </tr>\n",
       "    <tr>\n",
       "      <th>4</th>\n",
       "      <td>Epping</td>\n",
       "      <td>3.0</td>\n",
       "      <td>h</td>\n",
       "      <td>S</td>\n",
       "      <td>Barry</td>\n",
       "      <td>19.60</td>\n",
       "      <td>3076.0</td>\n",
       "      <td>3.0</td>\n",
       "      <td>1.0</td>\n",
       "      <td>2.0</td>\n",
       "      <td>...</td>\n",
       "      <td>Whittlesea City Council</td>\n",
       "      <td>-37.659860</td>\n",
       "      <td>145.032780</td>\n",
       "      <td>Northern Metropolitan</td>\n",
       "      <td>10926.0</td>\n",
       "      <td>Detached Garage</td>\n",
       "      <td>619000</td>\n",
       "      <td>2017</td>\n",
       "      <td>9</td>\n",
       "      <td>61.90</td>\n",
       "    </tr>\n",
       "  </tbody>\n",
       "</table>\n",
       "<p>5 rows × 23 columns</p>\n",
       "</div>"
      ],
      "text/plain": [
       "        Suburb  Rooms Type Method        SellerG  Distance  Postcode  Bedroom  \\\n",
       "0      Burwood    2.0    h      S      Lindellas     11.70    3125.0      1.0   \n",
       "1    Edithvale    4.0    t     PI         Buxton      9.22    3196.0      3.0   \n",
       "2  Tullamarine    2.0    u     SP          Barry     12.90    3043.0      2.6   \n",
       "3     St Kilda    2.0    u     VB  hockingstuart      6.10    3182.0      2.0   \n",
       "4       Epping    3.0    h      S          Barry     19.60    3076.0      3.0   \n",
       "\n",
       "   Bathroom  Car  ...                CouncilArea   Latitude  Longtitude  \\\n",
       "0       1.0  1.0  ...        Monash City Council -37.851800  145.127800   \n",
       "1       1.4  2.0  ...      Kingston City Council -37.804120  144.979946   \n",
       "2       1.4  1.6  ...      Brimbank City Council -37.648736  144.949798   \n",
       "3       1.0  1.0  ...  Port Phillip City Council -37.861200  144.985000   \n",
       "4       1.0  2.0  ...    Whittlesea City Council -37.659860  145.032780   \n",
       "\n",
       "                   Regionname  Propertycount      ParkingArea    Price  \\\n",
       "0       Southern Metropolitan         5678.0      Parking Pad  1815000   \n",
       "1  South-Eastern Metropolitan         2546.0          Carport   955000   \n",
       "2        Western Metropolitan         3296.0    Outdoor Stall   482500   \n",
       "3       Southern Metropolitan        13240.0      Underground   450000   \n",
       "4       Northern Metropolitan        10926.0  Detached Garage   619000   \n",
       "\n",
       "   year_list month_list   price  \n",
       "0       2017          5  181.50  \n",
       "1       2018          3   95.50  \n",
       "2       2018          2   48.25  \n",
       "3       2016          8   45.00  \n",
       "4       2017          9   61.90  \n",
       "\n",
       "[5 rows x 23 columns]"
      ]
     },
     "execution_count": 3,
     "metadata": {},
     "output_type": "execute_result"
    }
   ],
   "source": [
    "df.head()"
   ]
  },
  {
   "cell_type": "code",
   "execution_count": 4,
   "id": "6a96474e-da12-48f8-b321-2e9f4874c6c1",
   "metadata": {
    "id": "6a96474e-da12-48f8-b321-2e9f4874c6c1",
    "outputId": "3afdc33b-833a-44b1-d0e2-1c5d52f90078"
   },
   "outputs": [
    {
     "name": "stdout",
     "output_type": "stream",
     "text": [
      "<class 'pandas.core.frame.DataFrame'>\n",
      "RangeIndex: 25969 entries, 0 to 25968\n",
      "Data columns (total 23 columns):\n",
      " #   Column         Non-Null Count  Dtype  \n",
      "---  ------         --------------  -----  \n",
      " 0   Suburb         25969 non-null  object \n",
      " 1   Rooms          25969 non-null  float64\n",
      " 2   Type           25969 non-null  object \n",
      " 3   Method         25969 non-null  object \n",
      " 4   SellerG        25969 non-null  object \n",
      " 5   Distance       25969 non-null  float64\n",
      " 6   Postcode       25969 non-null  float64\n",
      " 7   Bedroom        25969 non-null  float64\n",
      " 8   Bathroom       25969 non-null  float64\n",
      " 9   Car            25969 non-null  float64\n",
      " 10  Landsize       25969 non-null  float64\n",
      " 11  BuildingArea   25969 non-null  float64\n",
      " 12  YearBuilt      25969 non-null  float64\n",
      " 13  CouncilArea    25969 non-null  object \n",
      " 14  Latitude       25969 non-null  float64\n",
      " 15  Longtitude     25969 non-null  float64\n",
      " 16  Regionname     25969 non-null  object \n",
      " 17  Propertycount  25969 non-null  float64\n",
      " 18  ParkingArea    25969 non-null  object \n",
      " 19  Price          25969 non-null  int64  \n",
      " 20  year_list      25969 non-null  int64  \n",
      " 21  month_list     25969 non-null  int64  \n",
      " 22  price          25969 non-null  float64\n",
      "dtypes: float64(13), int64(3), object(7)\n",
      "memory usage: 4.6+ MB\n"
     ]
    }
   ],
   "source": [
    "df.info()"
   ]
  },
  {
   "cell_type": "code",
   "execution_count": 5,
   "id": "9a6bb292-2962-4096-a3ac-b55d110c8f07",
   "metadata": {
    "id": "9a6bb292-2962-4096-a3ac-b55d110c8f07",
    "outputId": "05581029-5095-4c52-af3a-adee3415fe74"
   },
   "outputs": [
    {
     "name": "stdout",
     "output_type": "stream",
     "text": [
      "Suburb 345\n",
      "Type 3\n",
      "Method 5\n",
      "SellerG 347\n",
      "CouncilArea 33\n",
      "Regionname 8\n",
      "ParkingArea 8\n"
     ]
    }
   ],
   "source": [
    "cols = list(df.select_dtypes(include='object').columns)\n",
    "for col in cols:\n",
    "    print(col, df[col].nunique())"
   ]
  },
  {
   "cell_type": "markdown",
   "id": "418691fc-c9af-4b84-8294-b2049523ce84",
   "metadata": {
    "id": "418691fc-c9af-4b84-8294-b2049523ce84"
   },
   "source": [
    "#### H0: A variable has a predetermined distribution.\n",
    "#### H1: A variable deviates from the expected distribution."
   ]
  },
  {
   "cell_type": "raw",
   "id": "e25a496e-c9e9-4684-bbfa-ea918a4bb54a",
   "metadata": {
    "id": "e25a496e-c9e9-4684-bbfa-ea918a4bb54a"
   },
   "source": [
    "Checking whether Eastern Metropolitan and Northern Metropolitan got same distribution for Parking area"
   ]
  },
  {
   "cell_type": "code",
   "execution_count": 7,
   "id": "6e42946d-c444-4b79-8080-746dc694310b",
   "metadata": {
    "id": "6e42946d-c444-4b79-8080-746dc694310b",
    "outputId": "865840d9-1db2-478f-b683-3186315eee0d"
   },
   "outputs": [
    {
     "data": {
      "text/html": [
       "<div>\n",
       "<style scoped>\n",
       "    .dataframe tbody tr th:only-of-type {\n",
       "        vertical-align: middle;\n",
       "    }\n",
       "\n",
       "    .dataframe tbody tr th {\n",
       "        vertical-align: top;\n",
       "    }\n",
       "\n",
       "    .dataframe thead th {\n",
       "        text-align: right;\n",
       "    }\n",
       "</style>\n",
       "<table border=\"1\" class=\"dataframe\">\n",
       "  <thead>\n",
       "    <tr style=\"text-align: right;\">\n",
       "      <th>Regionname</th>\n",
       "      <th>Eastern Metropolitan</th>\n",
       "      <th>Eastern Victoria</th>\n",
       "      <th>Northern Metropolitan</th>\n",
       "      <th>Northern Victoria</th>\n",
       "      <th>South-Eastern Metropolitan</th>\n",
       "      <th>Southern Metropolitan</th>\n",
       "      <th>Western Metropolitan</th>\n",
       "      <th>Western Victoria</th>\n",
       "    </tr>\n",
       "    <tr>\n",
       "      <th>ParkingArea</th>\n",
       "      <th></th>\n",
       "      <th></th>\n",
       "      <th></th>\n",
       "      <th></th>\n",
       "      <th></th>\n",
       "      <th></th>\n",
       "      <th></th>\n",
       "      <th></th>\n",
       "    </tr>\n",
       "  </thead>\n",
       "  <tbody>\n",
       "    <tr>\n",
       "      <th>Attached Garage</th>\n",
       "      <td>551</td>\n",
       "      <td>31</td>\n",
       "      <td>1397</td>\n",
       "      <td>32</td>\n",
       "      <td>246</td>\n",
       "      <td>1343</td>\n",
       "      <td>1008</td>\n",
       "      <td>17</td>\n",
       "    </tr>\n",
       "    <tr>\n",
       "      <th>Carport</th>\n",
       "      <td>574</td>\n",
       "      <td>32</td>\n",
       "      <td>1420</td>\n",
       "      <td>36</td>\n",
       "      <td>240</td>\n",
       "      <td>1357</td>\n",
       "      <td>1041</td>\n",
       "      <td>14</td>\n",
       "    </tr>\n",
       "    <tr>\n",
       "      <th>Detached Garage</th>\n",
       "      <td>581</td>\n",
       "      <td>28</td>\n",
       "      <td>1404</td>\n",
       "      <td>33</td>\n",
       "      <td>212</td>\n",
       "      <td>1322</td>\n",
       "      <td>1028</td>\n",
       "      <td>14</td>\n",
       "    </tr>\n",
       "    <tr>\n",
       "      <th>Indoor</th>\n",
       "      <td>530</td>\n",
       "      <td>31</td>\n",
       "      <td>1263</td>\n",
       "      <td>30</td>\n",
       "      <td>230</td>\n",
       "      <td>1193</td>\n",
       "      <td>963</td>\n",
       "      <td>19</td>\n",
       "    </tr>\n",
       "    <tr>\n",
       "      <th>Outdoor Stall</th>\n",
       "      <td>188</td>\n",
       "      <td>11</td>\n",
       "      <td>458</td>\n",
       "      <td>6</td>\n",
       "      <td>78</td>\n",
       "      <td>432</td>\n",
       "      <td>359</td>\n",
       "      <td>8</td>\n",
       "    </tr>\n",
       "    <tr>\n",
       "      <th>Parkade</th>\n",
       "      <td>435</td>\n",
       "      <td>19</td>\n",
       "      <td>1050</td>\n",
       "      <td>15</td>\n",
       "      <td>185</td>\n",
       "      <td>1031</td>\n",
       "      <td>748</td>\n",
       "      <td>12</td>\n",
       "    </tr>\n",
       "    <tr>\n",
       "      <th>Parking Pad</th>\n",
       "      <td>96</td>\n",
       "      <td>4</td>\n",
       "      <td>216</td>\n",
       "      <td>2</td>\n",
       "      <td>45</td>\n",
       "      <td>228</td>\n",
       "      <td>189</td>\n",
       "      <td>4</td>\n",
       "    </tr>\n",
       "    <tr>\n",
       "      <th>Underground</th>\n",
       "      <td>232</td>\n",
       "      <td>9</td>\n",
       "      <td>562</td>\n",
       "      <td>12</td>\n",
       "      <td>99</td>\n",
       "      <td>576</td>\n",
       "      <td>432</td>\n",
       "      <td>8</td>\n",
       "    </tr>\n",
       "  </tbody>\n",
       "</table>\n",
       "</div>"
      ],
      "text/plain": [
       "Regionname       Eastern Metropolitan  Eastern Victoria  \\\n",
       "ParkingArea                                               \n",
       "Attached Garage                   551                31   \n",
       "Carport                           574                32   \n",
       "Detached Garage                   581                28   \n",
       "Indoor                            530                31   \n",
       "Outdoor Stall                     188                11   \n",
       "Parkade                           435                19   \n",
       "Parking Pad                        96                 4   \n",
       "Underground                       232                 9   \n",
       "\n",
       "Regionname       Northern Metropolitan  Northern Victoria  \\\n",
       "ParkingArea                                                 \n",
       "Attached Garage                   1397                 32   \n",
       "Carport                           1420                 36   \n",
       "Detached Garage                   1404                 33   \n",
       "Indoor                            1263                 30   \n",
       "Outdoor Stall                      458                  6   \n",
       "Parkade                           1050                 15   \n",
       "Parking Pad                        216                  2   \n",
       "Underground                        562                 12   \n",
       "\n",
       "Regionname       South-Eastern Metropolitan  Southern Metropolitan  \\\n",
       "ParkingArea                                                          \n",
       "Attached Garage                         246                   1343   \n",
       "Carport                                 240                   1357   \n",
       "Detached Garage                         212                   1322   \n",
       "Indoor                                  230                   1193   \n",
       "Outdoor Stall                            78                    432   \n",
       "Parkade                                 185                   1031   \n",
       "Parking Pad                              45                    228   \n",
       "Underground                              99                    576   \n",
       "\n",
       "Regionname       Western Metropolitan  Western Victoria  \n",
       "ParkingArea                                              \n",
       "Attached Garage                  1008                17  \n",
       "Carport                          1041                14  \n",
       "Detached Garage                  1028                14  \n",
       "Indoor                            963                19  \n",
       "Outdoor Stall                     359                 8  \n",
       "Parkade                           748                12  \n",
       "Parking Pad                       189                 4  \n",
       "Underground                       432                 8  "
      ]
     },
     "execution_count": 7,
     "metadata": {},
     "output_type": "execute_result"
    }
   ],
   "source": [
    "pr = pd.crosstab(df['ParkingArea'], df['Regionname'])\n",
    "pr"
   ]
  },
  {
   "cell_type": "code",
   "execution_count": 8,
   "id": "b35de58c-7295-4135-96dd-99bfb7a61e85",
   "metadata": {
    "id": "b35de58c-7295-4135-96dd-99bfb7a61e85",
    "outputId": "4cb7aae2-bfc9-414b-8460-ac40ef392db6"
   },
   "outputs": [
    {
     "data": {
      "text/html": [
       "<div>\n",
       "<style scoped>\n",
       "    .dataframe tbody tr th:only-of-type {\n",
       "        vertical-align: middle;\n",
       "    }\n",
       "\n",
       "    .dataframe tbody tr th {\n",
       "        vertical-align: top;\n",
       "    }\n",
       "\n",
       "    .dataframe thead th {\n",
       "        text-align: right;\n",
       "    }\n",
       "</style>\n",
       "<table border=\"1\" class=\"dataframe\">\n",
       "  <thead>\n",
       "    <tr style=\"text-align: right;\">\n",
       "      <th></th>\n",
       "      <th>EM</th>\n",
       "      <th>NM</th>\n",
       "    </tr>\n",
       "    <tr>\n",
       "      <th>ParkingArea</th>\n",
       "      <th></th>\n",
       "      <th></th>\n",
       "    </tr>\n",
       "  </thead>\n",
       "  <tbody>\n",
       "    <tr>\n",
       "      <th>Attached Garage</th>\n",
       "      <td>551</td>\n",
       "      <td>1397</td>\n",
       "    </tr>\n",
       "    <tr>\n",
       "      <th>Carport</th>\n",
       "      <td>574</td>\n",
       "      <td>1420</td>\n",
       "    </tr>\n",
       "    <tr>\n",
       "      <th>Detached Garage</th>\n",
       "      <td>581</td>\n",
       "      <td>1404</td>\n",
       "    </tr>\n",
       "    <tr>\n",
       "      <th>Indoor</th>\n",
       "      <td>530</td>\n",
       "      <td>1263</td>\n",
       "    </tr>\n",
       "    <tr>\n",
       "      <th>Outdoor Stall</th>\n",
       "      <td>188</td>\n",
       "      <td>458</td>\n",
       "    </tr>\n",
       "    <tr>\n",
       "      <th>Parkade</th>\n",
       "      <td>435</td>\n",
       "      <td>1050</td>\n",
       "    </tr>\n",
       "    <tr>\n",
       "      <th>Parking Pad</th>\n",
       "      <td>96</td>\n",
       "      <td>216</td>\n",
       "    </tr>\n",
       "    <tr>\n",
       "      <th>Underground</th>\n",
       "      <td>232</td>\n",
       "      <td>562</td>\n",
       "    </tr>\n",
       "  </tbody>\n",
       "</table>\n",
       "</div>"
      ],
      "text/plain": [
       "                  EM    NM\n",
       "ParkingArea               \n",
       "Attached Garage  551  1397\n",
       "Carport          574  1420\n",
       "Detached Garage  581  1404\n",
       "Indoor           530  1263\n",
       "Outdoor Stall    188   458\n",
       "Parkade          435  1050\n",
       "Parking Pad       96   216\n",
       "Underground      232   562"
      ]
     },
     "execution_count": 8,
     "metadata": {},
     "output_type": "execute_result"
    }
   ],
   "source": [
    "pr2 = pr.iloc[:,[0,2]]\n",
    "pr2.columns = ['EM', 'NM']\n",
    "pr2"
   ]
  },
  {
   "cell_type": "code",
   "execution_count": 9,
   "id": "166d497d-c2b0-4c6f-a353-9c86619e44b4",
   "metadata": {
    "id": "166d497d-c2b0-4c6f-a353-9c86619e44b4",
    "outputId": "9b302224-da60-4cf7-f8a8-01acc90f20fb"
   },
   "outputs": [
    {
     "data": {
      "text/html": [
       "<div>\n",
       "<style scoped>\n",
       "    .dataframe tbody tr th:only-of-type {\n",
       "        vertical-align: middle;\n",
       "    }\n",
       "\n",
       "    .dataframe tbody tr th {\n",
       "        vertical-align: top;\n",
       "    }\n",
       "\n",
       "    .dataframe thead th {\n",
       "        text-align: right;\n",
       "    }\n",
       "</style>\n",
       "<table border=\"1\" class=\"dataframe\">\n",
       "  <thead>\n",
       "    <tr style=\"text-align: right;\">\n",
       "      <th></th>\n",
       "      <th>EM</th>\n",
       "      <th>NM</th>\n",
       "      <th>EM_mod</th>\n",
       "    </tr>\n",
       "    <tr>\n",
       "      <th>ParkingArea</th>\n",
       "      <th></th>\n",
       "      <th></th>\n",
       "      <th></th>\n",
       "    </tr>\n",
       "  </thead>\n",
       "  <tbody>\n",
       "    <tr>\n",
       "      <th>Attached Garage</th>\n",
       "      <td>551</td>\n",
       "      <td>1397</td>\n",
       "      <td>1343.354252</td>\n",
       "    </tr>\n",
       "    <tr>\n",
       "      <th>Carport</th>\n",
       "      <td>574</td>\n",
       "      <td>1420</td>\n",
       "      <td>1399.428930</td>\n",
       "    </tr>\n",
       "    <tr>\n",
       "      <th>Detached Garage</th>\n",
       "      <td>581</td>\n",
       "      <td>1404</td>\n",
       "      <td>1416.495136</td>\n",
       "    </tr>\n",
       "    <tr>\n",
       "      <th>Indoor</th>\n",
       "      <td>530</td>\n",
       "      <td>1263</td>\n",
       "      <td>1292.155632</td>\n",
       "    </tr>\n",
       "    <tr>\n",
       "      <th>Outdoor Stall</th>\n",
       "      <td>188</td>\n",
       "      <td>458</td>\n",
       "      <td>458.349545</td>\n",
       "    </tr>\n",
       "    <tr>\n",
       "      <th>Parkade</th>\n",
       "      <td>435</td>\n",
       "      <td>1050</td>\n",
       "      <td>1060.542830</td>\n",
       "    </tr>\n",
       "    <tr>\n",
       "      <th>Parking Pad</th>\n",
       "      <td>96</td>\n",
       "      <td>216</td>\n",
       "      <td>234.050832</td>\n",
       "    </tr>\n",
       "    <tr>\n",
       "      <th>Underground</th>\n",
       "      <td>232</td>\n",
       "      <td>562</td>\n",
       "      <td>565.622843</td>\n",
       "    </tr>\n",
       "  </tbody>\n",
       "</table>\n",
       "</div>"
      ],
      "text/plain": [
       "                  EM    NM       EM_mod\n",
       "ParkingArea                            \n",
       "Attached Garage  551  1397  1343.354252\n",
       "Carport          574  1420  1399.428930\n",
       "Detached Garage  581  1404  1416.495136\n",
       "Indoor           530  1263  1292.155632\n",
       "Outdoor Stall    188   458   458.349545\n",
       "Parkade          435  1050  1060.542830\n",
       "Parking Pad       96   216   234.050832\n",
       "Underground      232   562   565.622843"
      ]
     },
     "execution_count": 9,
     "metadata": {},
     "output_type": "execute_result"
    }
   ],
   "source": [
    "pr2 = pr2.copy()\n",
    "pr2['EM_mod'] = np.sum(pr2['NM'])/np.sum(pr2['EM'])*pr2['EM']\n",
    "pr2"
   ]
  },
  {
   "cell_type": "code",
   "execution_count": 10,
   "id": "7013e0bb-330c-44f8-879e-2afeb8f6dbae",
   "metadata": {
    "id": "7013e0bb-330c-44f8-879e-2afeb8f6dbae",
    "outputId": "db660be9-cfcd-4dc9-c009-a56eaba3596a"
   },
   "outputs": [
    {
     "data": {
      "text/plain": [
       "EM        3187.0\n",
       "NM        7770.0\n",
       "EM_mod    7770.0\n",
       "dtype: float64"
      ]
     },
     "execution_count": 10,
     "metadata": {},
     "output_type": "execute_result"
    }
   ],
   "source": [
    "pr2.sum()"
   ]
  },
  {
   "cell_type": "code",
   "execution_count": 11,
   "id": "7d1111f9-dfe7-4fd4-988a-7f4152faf184",
   "metadata": {
    "id": "7d1111f9-dfe7-4fd4-988a-7f4152faf184",
    "outputId": "a68ae69c-85fa-4afa-fc6a-2dd598345a29"
   },
   "outputs": [
    {
     "name": "stdout",
     "output_type": "stream",
     "text": [
      "chisquare_stat is : 4.733183602425687\n",
      "p_value : 0.6924862513090961\n"
     ]
    }
   ],
   "source": [
    "chisquare_stat, p_value = stats.chisquare(pr2['NM'], pr2['EM_mod'])\n",
    "print('chisquare_stat is : ' + str(chisquare_stat))\n",
    "print('p_value : ' + str(p_value))"
   ]
  },
  {
   "cell_type": "markdown",
   "id": "729ecbdc-9ec8-46d3-9528-283c9801e655",
   "metadata": {
    "id": "SzD1VdwamNgU"
   },
   "source": [
    "Since p-value > α, we accept H0 to conclude that parking are distributions of NM and EM are same."
   ]
  },
  {
   "cell_type": "markdown",
   "id": "bff5302b-284f-4bcf-ba3e-1bb3f62b48a5",
   "metadata": {
    "id": "bff5302b-284f-4bcf-ba3e-1bb3f62b48a5"
   },
   "source": [
    "#### Checking whether price is normally distributed"
   ]
  },
  {
   "cell_type": "code",
   "execution_count": 20,
   "id": "4ba21ea6-ecb6-4c7e-8c66-00a76d2378df",
   "metadata": {
    "colab": {
     "base_uri": "https://localhost:8080/",
     "height": 106
    },
    "id": "4ba21ea6-ecb6-4c7e-8c66-00a76d2378df",
    "outputId": "666e24bd-ecec-4fc9-afe8-9281b35a3116"
   },
   "outputs": [
    {
     "data": {
      "image/png": "[encoded data removed]",
      "text/plain": [
       "<Figure size 800x400 with 1 Axes>"
      ]
     },
     "metadata": {},
     "output_type": "display_data"
    },
    {
     "name": "stdout",
     "output_type": "stream",
     "text": [
      "mean:  95.17978705379491 Standard Deviation:  43.339160565650886\n"
     ]
    }
   ],
   "source": [
    "plt.figure(figsize=(8,4))\n",
    "sns.histplot(df['price'],  linewidth=0, stat='density')\n",
    "mu, std = stats.norm.fit(df['price'])\n",
    "min = df['price'].min()\n",
    "max = df['price'].max()\n",
    "x = np.linspace(min, max, 100)\n",
    "p = stats.norm.pdf(x, mu, std)\n",
    "plt.plot(x, p, 'k', linewidth=2)\n",
    "plt.show()\n",
    "print('mean: ', mu, 'Standard Deviation: ', std)"
   ]
  },
  {
   "cell_type": "code",
   "execution_count": 22,
   "id": "dfa6f581-3639-44f1-b495-7b71c4ed5807",
   "metadata": {
    "id": "dfa6f581-3639-44f1-b495-7b71c4ed5807",
    "outputId": "2a2fcb2e-1c43-48be-b2a3-9144adf631f6"
   },
   "outputs": [
    {
     "name": "stdout",
     "output_type": "stream",
     "text": [
      "95.17978705379491 43.33916056565084\n"
     ]
    }
   ],
   "source": [
    "import numpy as np\n",
    "import scipy.stats as stats\n",
    "data = df['price']\n",
    "num_bins = 20\n",
    "\n",
    "mean, std = np.mean(data), np.std(data)\n",
    "bins = np.linspace(min, max, num_bins + 1)\n",
    "observed, _ = np.histogram(data, bins)\n",
    "expected = [len(data) * (stats.norm.cdf(bins[i + 1], loc=mean, scale=std) -\n",
    "    stats.norm.cdf(bins[i], loc=mean, scale=std)) for i in range(num_bins)]\n",
    "print(mean, std)"
   ]
  },
  {
   "cell_type": "code",
   "execution_count": 24,
   "id": "009f7acd-e868-4a9b-b669-cccd94464e58",
   "metadata": {
    "id": "009f7acd-e868-4a9b-b669-cccd94464e58",
    "outputId": "e1acc7f6-197d-4fa4-a035-e883cbdee591"
   },
   "outputs": [
    {
     "data": {
      "text/plain": [
       "array([  8.5,  19.5,  30.5,  41.5,  52.5,  63.5,  74.5,  85.5,  96.5,\n",
       "       107.5, 118.5, 129.5, 140.5, 151.5, 162.5, 173.5, 184.5, 195.5,\n",
       "       206.5, 217.5, 228.5])"
      ]
     },
     "execution_count": 24,
     "metadata": {},
     "output_type": "execute_result"
    }
   ],
   "source": [
    "bins"
   ]
  },
  {
   "cell_type": "code",
   "execution_count": 26,
   "id": "bceb5bee-8dfd-4f7a-ae8a-0d9a9ccb1b4a",
   "metadata": {
    "id": "bceb5bee-8dfd-4f7a-ae8a-0d9a9ccb1b4a",
    "outputId": "238222da-19f3-444e-c911-f229a33fbcf2"
   },
   "outputs": [
    {
     "data": {
      "text/html": [
       "<div>\n",
       "<style scoped>\n",
       "    .dataframe tbody tr th:only-of-type {\n",
       "        vertical-align: middle;\n",
       "    }\n",
       "\n",
       "    .dataframe tbody tr th {\n",
       "        vertical-align: top;\n",
       "    }\n",
       "\n",
       "    .dataframe thead th {\n",
       "        text-align: right;\n",
       "    }\n",
       "</style>\n",
       "<table border=\"1\" class=\"dataframe\">\n",
       "  <thead>\n",
       "    <tr style=\"text-align: right;\">\n",
       "      <th></th>\n",
       "      <th>bins</th>\n",
       "      <th>z-bin</th>\n",
       "    </tr>\n",
       "  </thead>\n",
       "  <tbody>\n",
       "    <tr>\n",
       "      <th>0</th>\n",
       "      <td>8.5</td>\n",
       "      <td>-2.000034</td>\n",
       "    </tr>\n",
       "    <tr>\n",
       "      <th>1</th>\n",
       "      <td>19.5</td>\n",
       "      <td>-1.746222</td>\n",
       "    </tr>\n",
       "    <tr>\n",
       "      <th>2</th>\n",
       "      <td>30.5</td>\n",
       "      <td>-1.492410</td>\n",
       "    </tr>\n",
       "    <tr>\n",
       "      <th>3</th>\n",
       "      <td>41.5</td>\n",
       "      <td>-1.238598</td>\n",
       "    </tr>\n",
       "    <tr>\n",
       "      <th>4</th>\n",
       "      <td>52.5</td>\n",
       "      <td>-0.984786</td>\n",
       "    </tr>\n",
       "    <tr>\n",
       "      <th>5</th>\n",
       "      <td>63.5</td>\n",
       "      <td>-0.730974</td>\n",
       "    </tr>\n",
       "    <tr>\n",
       "      <th>6</th>\n",
       "      <td>74.5</td>\n",
       "      <td>-0.477162</td>\n",
       "    </tr>\n",
       "    <tr>\n",
       "      <th>7</th>\n",
       "      <td>85.5</td>\n",
       "      <td>-0.223350</td>\n",
       "    </tr>\n",
       "    <tr>\n",
       "      <th>8</th>\n",
       "      <td>96.5</td>\n",
       "      <td>0.030462</td>\n",
       "    </tr>\n",
       "    <tr>\n",
       "      <th>9</th>\n",
       "      <td>107.5</td>\n",
       "      <td>0.284274</td>\n",
       "    </tr>\n",
       "    <tr>\n",
       "      <th>10</th>\n",
       "      <td>118.5</td>\n",
       "      <td>0.538086</td>\n",
       "    </tr>\n",
       "    <tr>\n",
       "      <th>11</th>\n",
       "      <td>129.5</td>\n",
       "      <td>0.791898</td>\n",
       "    </tr>\n",
       "    <tr>\n",
       "      <th>12</th>\n",
       "      <td>140.5</td>\n",
       "      <td>1.045710</td>\n",
       "    </tr>\n",
       "    <tr>\n",
       "      <th>13</th>\n",
       "      <td>151.5</td>\n",
       "      <td>1.299522</td>\n",
       "    </tr>\n",
       "    <tr>\n",
       "      <th>14</th>\n",
       "      <td>162.5</td>\n",
       "      <td>1.553334</td>\n",
       "    </tr>\n",
       "    <tr>\n",
       "      <th>15</th>\n",
       "      <td>173.5</td>\n",
       "      <td>1.807147</td>\n",
       "    </tr>\n",
       "    <tr>\n",
       "      <th>16</th>\n",
       "      <td>184.5</td>\n",
       "      <td>2.060959</td>\n",
       "    </tr>\n",
       "    <tr>\n",
       "      <th>17</th>\n",
       "      <td>195.5</td>\n",
       "      <td>2.314771</td>\n",
       "    </tr>\n",
       "    <tr>\n",
       "      <th>18</th>\n",
       "      <td>206.5</td>\n",
       "      <td>2.568583</td>\n",
       "    </tr>\n",
       "    <tr>\n",
       "      <th>19</th>\n",
       "      <td>217.5</td>\n",
       "      <td>2.822395</td>\n",
       "    </tr>\n",
       "    <tr>\n",
       "      <th>20</th>\n",
       "      <td>228.5</td>\n",
       "      <td>3.076207</td>\n",
       "    </tr>\n",
       "  </tbody>\n",
       "</table>\n",
       "</div>"
      ],
      "text/plain": [
       "     bins     z-bin\n",
       "0     8.5 -2.000034\n",
       "1    19.5 -1.746222\n",
       "2    30.5 -1.492410\n",
       "3    41.5 -1.238598\n",
       "4    52.5 -0.984786\n",
       "5    63.5 -0.730974\n",
       "6    74.5 -0.477162\n",
       "7    85.5 -0.223350\n",
       "8    96.5  0.030462\n",
       "9   107.5  0.284274\n",
       "10  118.5  0.538086\n",
       "11  129.5  0.791898\n",
       "12  140.5  1.045710\n",
       "13  151.5  1.299522\n",
       "14  162.5  1.553334\n",
       "15  173.5  1.807147\n",
       "16  184.5  2.060959\n",
       "17  195.5  2.314771\n",
       "18  206.5  2.568583\n",
       "19  217.5  2.822395\n",
       "20  228.5  3.076207"
      ]
     },
     "execution_count": 26,
     "metadata": {},
     "output_type": "execute_result"
    }
   ],
   "source": [
    "z_bin = (bins-mean)/std\n",
    "bn = pd.DataFrame({'bins':bins, 'z-bin':z_bin})\n",
    "bn"
   ]
  },
  {
   "cell_type": "code",
   "execution_count": 28,
   "id": "783e1a80-0633-4280-97d5-ff03cd88720a",
   "metadata": {
    "id": "783e1a80-0633-4280-97d5-ff03cd88720a",
    "outputId": "1f5191e6-af28-434c-8753-c39fe5a2bff5"
   },
   "outputs": [
    {
     "data": {
      "text/plain": [
       "array([  12,  234, 1108, 2296, 3102, 3389, 3056, 2551, 1738, 1434, 1505,\n",
       "       1415,  958,  712,  679,  531,  485,  306,  211,  247], dtype=int64)"
      ]
     },
     "execution_count": 28,
     "metadata": {},
     "output_type": "execute_result"
    }
   ],
   "source": [
    "observed"
   ]
  },
  {
   "cell_type": "code",
   "execution_count": 30,
   "id": "d7045b77-ce09-4dd2-bd40-b25c28e997b6",
   "metadata": {
    "id": "d7045b77-ce09-4dd2-bd40-b25c28e997b6",
    "outputId": "2a4a6005-502c-4320-9d53-1dda712bfc13"
   },
   "outputs": [
    {
     "data": {
      "text/plain": [
       "[458.0387059779317,\n",
       " 711.8016565617305,\n",
       " 1037.4972101484373,\n",
       " 1418.3596526659023,\n",
       " 1818.6854296183938,\n",
       " 2187.2621275694405,\n",
       " 2467.2677596122744,\n",
       " 2610.3819355079618,\n",
       " 2590.3843199319363,\n",
       " 2410.997265892416,\n",
       " 2104.754913334195,\n",
       " 1723.3699414461385,\n",
       " 1323.5107426381874,\n",
       " 953.3407321125607,\n",
       " 644.0806235476273,\n",
       " 408.134541437273,\n",
       " 242.56998883307827,\n",
       " 135.21998745181347,\n",
       " 70.69916284578348,\n",
       " 34.67022036748844]"
      ]
     },
     "execution_count": 30,
     "metadata": {},
     "output_type": "execute_result"
    }
   ],
   "source": [
    "expected"
   ]
  },
  {
   "cell_type": "code",
   "execution_count": 32,
   "id": "9e299cb3-546e-4f2b-bcd1-ca74dc208e95",
   "metadata": {
    "id": "9e299cb3-546e-4f2b-bcd1-ca74dc208e95",
    "outputId": "d1e7b7fc-6120-47c4-ed2f-6149d36596e9"
   },
   "outputs": [
    {
     "data": {
      "text/html": [
       "<div>\n",
       "<style scoped>\n",
       "    .dataframe tbody tr th:only-of-type {\n",
       "        vertical-align: middle;\n",
       "    }\n",
       "\n",
       "    .dataframe tbody tr th {\n",
       "        vertical-align: top;\n",
       "    }\n",
       "\n",
       "    .dataframe thead th {\n",
       "        text-align: right;\n",
       "    }\n",
       "</style>\n",
       "<table border=\"1\" class=\"dataframe\">\n",
       "  <thead>\n",
       "    <tr style=\"text-align: right;\">\n",
       "      <th></th>\n",
       "      <th>obs</th>\n",
       "      <th>exp</th>\n",
       "    </tr>\n",
       "  </thead>\n",
       "  <tbody>\n",
       "    <tr>\n",
       "      <th>0</th>\n",
       "      <td>12</td>\n",
       "      <td>458.038706</td>\n",
       "    </tr>\n",
       "    <tr>\n",
       "      <th>1</th>\n",
       "      <td>234</td>\n",
       "      <td>711.801657</td>\n",
       "    </tr>\n",
       "    <tr>\n",
       "      <th>2</th>\n",
       "      <td>1108</td>\n",
       "      <td>1037.497210</td>\n",
       "    </tr>\n",
       "    <tr>\n",
       "      <th>3</th>\n",
       "      <td>2296</td>\n",
       "      <td>1418.359653</td>\n",
       "    </tr>\n",
       "    <tr>\n",
       "      <th>4</th>\n",
       "      <td>3102</td>\n",
       "      <td>1818.685430</td>\n",
       "    </tr>\n",
       "    <tr>\n",
       "      <th>5</th>\n",
       "      <td>3389</td>\n",
       "      <td>2187.262128</td>\n",
       "    </tr>\n",
       "    <tr>\n",
       "      <th>6</th>\n",
       "      <td>3056</td>\n",
       "      <td>2467.267760</td>\n",
       "    </tr>\n",
       "    <tr>\n",
       "      <th>7</th>\n",
       "      <td>2551</td>\n",
       "      <td>2610.381936</td>\n",
       "    </tr>\n",
       "    <tr>\n",
       "      <th>8</th>\n",
       "      <td>1738</td>\n",
       "      <td>2590.384320</td>\n",
       "    </tr>\n",
       "    <tr>\n",
       "      <th>9</th>\n",
       "      <td>1434</td>\n",
       "      <td>2410.997266</td>\n",
       "    </tr>\n",
       "    <tr>\n",
       "      <th>10</th>\n",
       "      <td>1505</td>\n",
       "      <td>2104.754913</td>\n",
       "    </tr>\n",
       "    <tr>\n",
       "      <th>11</th>\n",
       "      <td>1415</td>\n",
       "      <td>1723.369941</td>\n",
       "    </tr>\n",
       "    <tr>\n",
       "      <th>12</th>\n",
       "      <td>958</td>\n",
       "      <td>1323.510743</td>\n",
       "    </tr>\n",
       "    <tr>\n",
       "      <th>13</th>\n",
       "      <td>712</td>\n",
       "      <td>953.340732</td>\n",
       "    </tr>\n",
       "    <tr>\n",
       "      <th>14</th>\n",
       "      <td>679</td>\n",
       "      <td>644.080624</td>\n",
       "    </tr>\n",
       "    <tr>\n",
       "      <th>15</th>\n",
       "      <td>531</td>\n",
       "      <td>408.134541</td>\n",
       "    </tr>\n",
       "    <tr>\n",
       "      <th>16</th>\n",
       "      <td>485</td>\n",
       "      <td>242.569989</td>\n",
       "    </tr>\n",
       "    <tr>\n",
       "      <th>17</th>\n",
       "      <td>306</td>\n",
       "      <td>135.219987</td>\n",
       "    </tr>\n",
       "    <tr>\n",
       "      <th>18</th>\n",
       "      <td>211</td>\n",
       "      <td>70.699163</td>\n",
       "    </tr>\n",
       "    <tr>\n",
       "      <th>19</th>\n",
       "      <td>247</td>\n",
       "      <td>34.670220</td>\n",
       "    </tr>\n",
       "  </tbody>\n",
       "</table>\n",
       "</div>"
      ],
      "text/plain": [
       "     obs          exp\n",
       "0     12   458.038706\n",
       "1    234   711.801657\n",
       "2   1108  1037.497210\n",
       "3   2296  1418.359653\n",
       "4   3102  1818.685430\n",
       "5   3389  2187.262128\n",
       "6   3056  2467.267760\n",
       "7   2551  2610.381936\n",
       "8   1738  2590.384320\n",
       "9   1434  2410.997266\n",
       "10  1505  2104.754913\n",
       "11  1415  1723.369941\n",
       "12   958  1323.510743\n",
       "13   712   953.340732\n",
       "14   679   644.080624\n",
       "15   531   408.134541\n",
       "16   485   242.569989\n",
       "17   306   135.219987\n",
       "18   211    70.699163\n",
       "19   247    34.670220"
      ]
     },
     "execution_count": 32,
     "metadata": {},
     "output_type": "execute_result"
    }
   ],
   "source": [
    "ch = pd.DataFrame({'obs':observed, 'exp':expected})\n",
    "ch"
   ]
  },
  {
   "cell_type": "code",
   "execution_count": 34,
   "id": "905ee83d-c485-434d-8212-871e3440434f",
   "metadata": {
    "id": "905ee83d-c485-434d-8212-871e3440434f",
    "outputId": "0756c7d4-e3cd-497e-ba7e-b156c59d6cb0"
   },
   "outputs": [
    {
     "data": {
      "image/png": "[encoded data removed]",
      "text/plain": [
       "<Figure size 800x400 with 1 Axes>"
      ]
     },
     "metadata": {},
     "output_type": "display_data"
    }
   ],
   "source": [
    "plt.figure(figsize=(8,4))\n",
    "plt.plot(ch)\n",
    "plt.show()"
   ]
  },
  {
   "cell_type": "code",
   "execution_count": 36,
   "id": "900f2528-2cb8-496f-a3c1-b40c5d696dba",
   "metadata": {
    "id": "900f2528-2cb8-496f-a3c1-b40c5d696dba"
   },
   "outputs": [],
   "source": [
    "ch['exp_mod'] = np.sum(ch['obs'])/np.sum(ch['exp'])*ch['exp']"
   ]
  },
  {
   "cell_type": "code",
   "execution_count": 38,
   "id": "cecc4a61-4c8c-4caf-b7c5-8e64bce0d8c8",
   "metadata": {
    "id": "cecc4a61-4c8c-4caf-b7c5-8e64bce0d8c8",
    "outputId": "e9f05321-334d-4bdb-f7b3-866b172ed774"
   },
   "outputs": [
    {
     "data": {
      "text/plain": [
       "obs        25969.000000\n",
       "exp        25351.026918\n",
       "exp_mod    25969.000000\n",
       "dtype: float64"
      ]
     },
     "execution_count": 38,
     "metadata": {},
     "output_type": "execute_result"
    }
   ],
   "source": [
    "ch.sum()"
   ]
  },
  {
   "cell_type": "code",
   "execution_count": 40,
   "id": "03851757-8f4b-4135-b531-4d977cd5e886",
   "metadata": {
    "id": "03851757-8f4b-4135-b531-4d977cd5e886",
    "outputId": "b9e8f593-7f82-4225-b6f9-fe7b03b67a61"
   },
   "outputs": [
    {
     "name": "stdout",
     "output_type": "stream",
     "text": [
      "chisquare_stat is : 5989.654731311591\n",
      "p_value : 0.0\n"
     ]
    }
   ],
   "source": [
    "chisquare_stat, p_value = stats.chisquare(ch['obs'], ch['exp_mod'])\n",
    "print('chisquare_stat is : ' + str(chisquare_stat))\n",
    "print('p_value : ' + str(p_value))"
   ]
  },
  {
   "cell_type": "markdown",
   "id": "0b0ba177-f911-4acf-8c2a-74293983090a",
   "metadata": {},
   "source": [
    "Since p-value <                                                                                                                                                                                                                                               Since p-value < α, we REJECT H0 to conclude that distribution of price is not mormal.                                                                                                                                   "
   ]
  }
 ],
 "metadata": {
  "colab": {
   "provenance": []
  },
  "kernelspec": {
   "display_name": "Python 3 (ipykernel)",
   "language": "python",
   "name": "python3"
  },
  "language_info": {
   "codemirror_mode": {
    "name": "ipython",
    "version": 3
   },
   "file_extension": ".py",
   "mimetype": "text/x-python",
   "name": "python",
   "nbconvert_exporter": "python",
   "pygments_lexer": "ipython3",
   "version": "3.12.4"
  }
 },
 "nbformat": 4,
 "nbformat_minor": 5
}
